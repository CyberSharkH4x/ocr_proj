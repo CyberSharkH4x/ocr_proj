{
 "cells": [
  {
   "cell_type": "markdown",
   "metadata": {},
   "source": [
    "# PDF Text Extractor"
   ]
  },
  {
   "cell_type": "code",
   "execution_count": 6,
   "metadata": {
    "trusted": false
   },
   "outputs": [],
   "source": [
    "#setting the pdf folders\n",
    "pdf_folder = \"data/PDFs/\"\n",
    "output_folder = \"data/PDFs/Output\""
   ]
  },
  {
   "cell_type": "markdown",
   "metadata": {},
   "source": [
    "### Using PyPDF2"
   ]
  },
  {
   "cell_type": "code",
   "execution_count": 2,
   "metadata": {
    "trusted": false
   },
   "outputs": [],
   "source": [
    "from PyPDF2 import PdfReader\n",
    "import os"
   ]
  },
  {
   "cell_type": "code",
   "execution_count": null,
   "metadata": {},
   "outputs": [],
   "source": [
    "pdf_files = []\n",
    "\n",
    "# Iterate over each pdf in the folder\n",
    "for filename in os.listdir(pdf_folder):\n",
    "    if filename.endswith('.pdf'):\n",
    "        pdf_files.append(filename)\n",
    "\n",
    "print(pdf_files)"
   ]
  },
  {
   "cell_type": "code",
   "execution_count": null,
   "metadata": {
    "trusted": false
   },
   "outputs": [],
   "source": [
    "for pdf_file in pdf_files:\n",
    "    pdf_path = os.path.join(pdf_folder, pdf_file)\n",
    "\n",
    "    # Split the file name into the name and the extension\n",
    "    name, ext = os.path.splitext(pdf_file)\n",
    "    output_file_path = os.path.join(output_folder, name +'.txt')\n",
    "\n",
    "    # Create a PDF reader object\n",
    "    pdf_reader = PdfReader(pdf_path)\n",
    "        \n",
    "    # Get the number of pages in the PDF\n",
    "    num_pages = len(pdf_reader.pages)\n",
    "        \n",
    "    # Open the output text file in append mode\n",
    "    with open(output_file_path, 'a', encoding='utf-8') as output_file:\n",
    "        # Iterate through each page\n",
    "        for page_num in range(num_pages):\n",
    "            # Get the page object\n",
    "            page = pdf_reader.pages[page_num]\n",
    "\n",
    "            # Extract text from the page\n",
    "            text = page.extract_text()\n",
    "\n",
    "            # Write the text to the output file\n",
    "            if text:  # Check if text was extracted\n",
    "                output_file.write(f'Extracted text from page {page_num + 1}:\\n')\n",
    "                output_file.write('----------------------------------------------\\n')\n",
    "                output_file.write(text)\n",
    "                output_file.write('\\n')  # Add a newline for readability\n",
    "                output_file.write('----------------------------------------------\\n')\n",
    "                \n",
    "            print(f'Extracted text from {pdf_file} page {page_num + 1}')"
   ]
  },
  {
   "cell_type": "markdown",
   "metadata": {},
   "source": [
    "### Removing Lines with Specific Unwanted Text in"
   ]
  },
  {
   "cell_type": "code",
   "execution_count": null,
   "metadata": {
    "trusted": true
   },
   "outputs": [],
   "source": [
    "# Define your name and file paths\n",
    "text_file_path = pdf_folder + \"text_to_remove.txt\"\n",
    "input_files = []\n",
    "\n",
    "# Read the text file to identify the text to remove\n",
    "with open(text_file_path, 'r', encoding='utf-8') as text_file:\n",
    "    text_to_remove = text_file.read().strip()\n",
    "\n",
    "for filename in os.listdir(output_folder):\n",
    "    if filename.endswith('.txt'):\n",
    "        input_files.append(filename)\n",
    "\n",
    "\n",
    "# Read the input files, filter lines, and write to the output file\n",
    "for file in input_files:\n",
    "    input_file_path = os.path.join(output_folder, file)\n",
    "    # Split the file name into the name and the extension\n",
    "    name, ext = os.path.splitext(input_file_path)\n",
    "    # Add '(removed)' just before the extension\n",
    "    output_file_path = f\"{name}(removed){ext}\"\n",
    "\n",
    "    with open(input_file_path, 'r', encoding='utf-8') as input_file:\n",
    "        with open(output_file_path, 'w', encoding='utf-8') as output_file:\n",
    "            for line in input_file:\n",
    "                if text_to_remove not in line:\n",
    "                    output_file.write(line)\n",
    "\n",
    "print(\"Lines containing the unwanted text have been removed and the cleaned text has been saved.\")"
   ]
  }
 ],
 "metadata": {
  "kernelspec": {
   "display_name": "Python 3",
   "language": "python",
   "name": "python3"
  },
  "language_info": {
   "codemirror_mode": {
    "name": "ipython",
    "version": 3
   },
   "file_extension": ".py",
   "mimetype": "text/x-python",
   "name": "python",
   "nbconvert_exporter": "python",
   "pygments_lexer": "ipython3",
   "version": "3.10.12"
  }
 },
 "nbformat": 4,
 "nbformat_minor": 2
}
