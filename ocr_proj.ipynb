{
 "cells": [
  {
   "cell_type": "code",
   "execution_count": 1,
   "metadata": {},
   "outputs": [],
   "source": [
    "import os\n",
    "from PIL import Image\n",
    "import pytesseract"
   ]
  },
  {
   "cell_type": "code",
   "execution_count": 18,
   "metadata": {},
   "outputs": [],
   "source": [
    "# Setting the path to the Tesseract executable\n",
    "pytesseract.pytesseract.tesseract_cmd = r'/usr/bin/tesseract' "
   ]
  },
  {
   "cell_type": "code",
   "execution_count": 3,
   "metadata": {},
   "outputs": [],
   "source": [
    "# Setting the image folder:\n",
    "image_folder = \"data/Images/\""
   ]
  },
  {
   "cell_type": "code",
   "execution_count": 26,
   "metadata": {},
   "outputs": [],
   "source": [
    "def extract_text_from_images(image_folder):\n",
    "    extracted_texts = []\n",
    "    \n",
    "    # Iterate over each image in the folder\n",
    "    for filename in os.listdir(image_folder):\n",
    "        if filename.endswith(('.png', '.PNG', '.jpg', '.jpeg', '.tiff', '.bmp', '.gif')):\n",
    "            image_path = os.path.join(image_folder, filename)\n",
    "            try:\n",
    "                # Open the image\n",
    "                image = Image.open(image_path)\n",
    "                \n",
    "                # Extract text from image\n",
    "                text = pytesseract.image_to_string(image)\n",
    "                \n",
    "                # Append the extracted text to the list\n",
    "                extracted_texts.append((filename, text))\n",
    "                \n",
    "                print(f\"Extracted text from {filename}\")\n",
    "                \n",
    "            except Exception as e:\n",
    "                print(f\"Failed to process {filename}: {e}\")\n",
    "\n",
    "    return extracted_texts"
   ]
  },
  {
   "cell_type": "code",
   "execution_count": 27,
   "metadata": {},
   "outputs": [
    {
     "name": "stdout",
     "output_type": "stream",
     "text": [
      "Extracted text from Capture.PNG\n",
      "Extracted text from Capture1.PNG\n",
      "Extracted text from Capture10.PNG\n",
      "Extracted text from Capture2.PNG\n",
      "Extracted text from Capture3.PNG\n",
      "Extracted text from Capture4.PNG\n",
      "Extracted text from Capture5.PNG\n",
      "Extracted text from Capture6.PNG\n",
      "Extracted text from Capture7.PNG\n",
      "Extracted text from Capture8.PNG\n",
      "Extracted text from Capture9.PNG\n"
     ]
    }
   ],
   "source": [
    "# Extract text from images by running the function:\n",
    "texts = extract_text_from_images(image_folder)"
   ]
  },
  {
   "cell_type": "code",
   "execution_count": 30,
   "metadata": {},
   "outputs": [],
   "source": [
    "# Save the extracted text to files\n",
    "for filename, text in texts:\n",
    "    with open(f\"data/Output/{filename}.txt\", \"w\") as f:\n",
    "        f.write(text)\n",
    "    "
   ]
  },
  {
   "cell_type": "code",
   "execution_count": 36,
   "metadata": {},
   "outputs": [],
   "source": [
    "# Alternately save the extracted text to one single file\n",
    "for filename, text in texts:\n",
    "    with open(\"data/Output/Full.txt\", \"a\") as f:\n",
    "        f.write(f\"---- Text extracted from: {filename} ----\\n\")\n",
    "        f.write(f\"{text}\\n\")\n",
    "        f.write(\"------------------------------------------------------------------\\n\\n\")"
   ]
  },
  {
   "cell_type": "code",
   "execution_count": null,
   "metadata": {},
   "outputs": [],
   "source": []
  }
 ],
 "metadata": {
  "kernelspec": {
   "display_name": "Python 3 (ipykernel)",
   "language": "python",
   "name": "python3"
  },
  "language_info": {
   "codemirror_mode": {
    "name": "ipython",
    "version": 3
   },
   "file_extension": ".py",
   "mimetype": "text/x-python",
   "name": "python",
   "nbconvert_exporter": "python",
   "pygments_lexer": "ipython3",
   "version": "3.10.12"
  }
 },
 "nbformat": 4,
 "nbformat_minor": 4
}
