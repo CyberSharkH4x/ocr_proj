{
 "cells": [
  {
   "cell_type": "code",
   "execution_count": 4,
   "metadata": {},
   "outputs": [],
   "source": [
    "import os\n",
    "from pptx import Presentation"
   ]
  },
  {
   "cell_type": "code",
   "execution_count": 7,
   "metadata": {},
   "outputs": [],
   "source": [
    "# Setting the folders:\n",
    "ppt_folder = 'data/ppts'\n",
    "output_folder = 'data/ppts/Output'"
   ]
  },
  {
   "cell_type": "code",
   "execution_count": 5,
   "metadata": {},
   "outputs": [],
   "source": [
    "def extract_text_from_ppt(ppt_path, output_path):\n",
    "    # Load the presentation\n",
    "    presentation = Presentation(ppt_path)\n",
    "    \n",
    "    # Extract text from the presentation\n",
    "    extracted_text = \"\"\n",
    "    for slide in presentation.slides:\n",
    "        for shape in slide.shapes:\n",
    "            if hasattr(shape, \"text\"):\n",
    "                extracted_text += shape.text + \"\\n\"\n",
    "    \n",
    "    # Save the extracted text to a file\n",
    "    with open(output_path, \"w\") as text_file:\n",
    "        text_file.write(extracted_text)\n",
    "\n",
    "    print(f\"Text extracted and saved to {output_path}\")"
   ]
  },
  {
   "cell_type": "code",
   "execution_count": null,
   "metadata": {},
   "outputs": [],
   "source": [
    "# Process each PowerPoint file in the folder\n",
    "for ppt_filename in os.listdir(ppt_folder):\n",
    "    if ppt_filename.endswith(\".pptx\"):\n",
    "        ppt_path = os.path.join(ppt_folder, ppt_filename)\n",
    "        output_filename = os.path.splitext(ppt_filename)[0] + \".txt\"\n",
    "        output_path = os.path.join(output_folder, output_filename)\n",
    "        \n",
    "        # Extract text and save to output file\n",
    "        try:\n",
    "            extract_text_from_ppt(ppt_path, output_path)\n",
    "        except Exception as e:\n",
    "            print(f\"Failed to process {ppt_filename}: {e}\")"
   ]
  },
  {
   "cell_type": "code",
   "execution_count": null,
   "metadata": {},
   "outputs": [],
   "source": []
  }
 ],
 "metadata": {
  "kernelspec": {
   "display_name": ".ocr_proj",
   "language": "python",
   "name": "python3"
  },
  "language_info": {
   "codemirror_mode": {
    "name": "ipython",
    "version": 3
   },
   "file_extension": ".py",
   "mimetype": "text/x-python",
   "name": "python",
   "nbconvert_exporter": "python",
   "pygments_lexer": "ipython3",
   "version": "3.10.12"
  }
 },
 "nbformat": 4,
 "nbformat_minor": 2
}
